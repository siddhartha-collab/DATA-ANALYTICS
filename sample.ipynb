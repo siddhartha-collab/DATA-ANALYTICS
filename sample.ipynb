{
  "nbformat": 4,
  "nbformat_minor": 0,
  "metadata": {
    "colab": {
      "provenance": [],
      "authorship_tag": "ABX9TyPHQtoq9Xs7VV0hYfFQ8AFs",
      "include_colab_link": true
    },
    "kernelspec": {
      "name": "python3",
      "display_name": "Python 3"
    },
    "language_info": {
      "name": "python"
    }
  },
  "cells": [
    {
      "cell_type": "markdown",
      "metadata": {
        "id": "view-in-github",
        "colab_type": "text"
      },
      "source": [
        "<a href=\"https://colab.research.google.com/github/siddhartha-collab/DATA-ANALYTICS/blob/main/sample.ipynb\" target=\"_parent\"><img src=\"https://colab.research.google.com/assets/colab-badge.svg\" alt=\"Open In Colab\"/></a>"
      ]
    },
    {
      "cell_type": "code",
      "execution_count": 1,
      "metadata": {
        "colab": {
          "base_uri": "https://localhost:8080/"
        },
        "id": "GLZ0l3euU9Uo",
        "outputId": "3c397c8f-0104-476e-e4b9-c778fec3cd33"
      },
      "outputs": [
        {
          "output_type": "stream",
          "name": "stdout",
          "text": [
            "List: [1, 2, 'hello', 4.5]\n"
          ]
        }
      ],
      "source": [
        "my_list = [1, 2, \"hello\", 4.5]\n",
        "print(f\"List: {my_list}\")"
      ]
    },
    {
      "cell_type": "code",
      "source": [
        "my_tuple = (10, \"world\", 20)\n",
        "print(f\"Tuple: {my_tuple}\")\n"
      ],
      "metadata": {
        "colab": {
          "base_uri": "https://localhost:8080/"
        },
        "id": "Fc8PzRP3VI-0",
        "outputId": "dbc6bec0-efe1-4c2d-eff6-2a92d58bc414"
      },
      "execution_count": 2,
      "outputs": [
        {
          "output_type": "stream",
          "name": "stdout",
          "text": [
            "Tuple: (10, 'world', 20)\n"
          ]
        }
      ]
    },
    {
      "cell_type": "code",
      "source": [
        "my_dict = {\"name\": \"Alice\", \"age\": 30, \"city\": \"New York\"}\n",
        "print(f\"Dictionary: {my_dict}\")"
      ],
      "metadata": {
        "colab": {
          "base_uri": "https://localhost:8080/"
        },
        "id": "b4cObwAdVXRV",
        "outputId": "0a407bbf-8334-4f01-d5c7-46b7f58fe2ba"
      },
      "execution_count": 3,
      "outputs": [
        {
          "output_type": "stream",
          "name": "stdout",
          "text": [
            "Dictionary: {'name': 'Alice', 'age': 30, 'city': 'New York'}\n"
          ]
        }
      ]
    },
    {
      "cell_type": "code",
      "source": [
        "# Create a DataFrame (requires pandas library)\n",
        "import pandas as pd\n",
        "\n",
        "# From a dictionary of lists\n",
        "data = {\n",
        "    \"Name\": [\"John\", \"Anna\", \"Peter\"],\n",
        "    \"Age\": [28, 24, 35],\n",
        "    \"City\": [\"London\", \"Paris\", \"Berlin\"]\n",
        "}\n",
        "df_from_dict = pd.DataFrame(data)\n",
        "print(\"\\nDataFrame from Dictionary:\")\n",
        "print(df_from_dict)\n",
        "\n",
        "# From a list of lists\n",
        "data_list = [\n",
        "    [\"John\", 28, \"London\"],\n",
        "    [\"Anna\", 24, \"Paris\"],\n",
        "    [\"Peter\", 35, \"Berlin\"]\n",
        "]\n",
        "df_from_list = pd.DataFrame(data_list, columns=[\"Name\", \"Age\", \"City\"])\n",
        "print(\"\\nDataFrame from List of Lists:\")\n",
        "print(df_from_list)"
      ],
      "metadata": {
        "colab": {
          "base_uri": "https://localhost:8080/"
        },
        "id": "xUdtHqPuYuVI",
        "outputId": "b1141b16-bffc-497b-e551-70f77de153f3"
      },
      "execution_count": 5,
      "outputs": [
        {
          "output_type": "stream",
          "name": "stdout",
          "text": [
            "\n",
            "DataFrame from Dictionary:\n",
            "    Name  Age    City\n",
            "0   John   28  London\n",
            "1   Anna   24   Paris\n",
            "2  Peter   35  Berlin\n",
            "\n",
            "DataFrame from List of Lists:\n",
            "    Name  Age    City\n",
            "0   John   28  London\n",
            "1   Anna   24   Paris\n",
            "2  Peter   35  Berlin\n"
          ]
        }
      ]
    },
    {
      "cell_type": "code",
      "source": [],
      "metadata": {
        "id": "oA4wZuTFY4DG"
      },
      "execution_count": null,
      "outputs": []
    }
  ]
}